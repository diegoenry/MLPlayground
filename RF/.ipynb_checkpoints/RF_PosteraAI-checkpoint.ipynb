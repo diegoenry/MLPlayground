{
 "cells": [
  {
   "cell_type": "code",
   "execution_count": 25,
   "id": "consistent-peter",
   "metadata": {},
   "outputs": [],
   "source": [
    "import pandas as pd\n",
    "import numpy as np\n",
    "import seaborn as sns\n",
    "from matplotlib import pyplot as plt"
   ]
  },
  {
   "cell_type": "code",
   "execution_count": 2,
   "id": "based-optimum",
   "metadata": {},
   "outputs": [],
   "source": [
    "activities = pd.read_csv('activity_data.csv')"
   ]
  },
  {
   "cell_type": "code",
   "execution_count": 3,
   "id": "vietnamese-punishment",
   "metadata": {},
   "outputs": [
    {
     "data": {
      "text/plain": [
       "<AxesSubplot:ylabel='Frequency'>"
      ]
     },
     "execution_count": 3,
     "metadata": {},
     "output_type": "execute_result"
    },
    {
     "data": {
      "image/png": "[encoded data removed]",
      "text/plain": [
       "<Figure size 432x288 with 1 Axes>"
      ]
     },
     "metadata": {
      "needs_background": "light"
     },
     "output_type": "display_data"
    }
   ],
   "source": [
    "activities['f_avg_IC50'].plot(kind='hist')"
   ]
  },
  {
   "cell_type": "code",
   "execution_count": 79,
   "id": "genetic-worthy",
   "metadata": {},
   "outputs": [],
   "source": [
    "actives   = activities.query('f_avg_IC50 <= 10')[['SMILES','CID']]\n",
    "actives['LABEL']=1\n",
    "inactives = activities.query('f_avg_IC50 >= 20')[['SMILES','CID']]\n",
    "inactives['LABEL']=0"
   ]
  },
  {
   "cell_type": "code",
   "execution_count": 80,
   "id": "unable-cloud",
   "metadata": {},
   "outputs": [],
   "source": [
    "data = pd.concat([actives,inactives])\n",
    "data[['SMILES','CID']].to_csv('smiles.smi')"
   ]
  },
  {
   "cell_type": "code",
   "execution_count": 81,
   "id": "selective-central",
   "metadata": {},
   "outputs": [],
   "source": [
    "from rdkit import Chem\n",
    "from rdkit.ML.Descriptors.MoleculeDescriptors import MolecularDescriptorCalculator\n",
    "\n",
    "mols = [Chem.MolFromSmiles(smi) for smi in data['SMILES']]"
   ]
  },
  {
   "cell_type": "code",
   "execution_count": 82,
   "id": "consecutive-kingdom",
   "metadata": {},
   "outputs": [],
   "source": [
    "# Get list of descriptors\n",
    "descriptors_list = [a[0] for a in Chem.Descriptors.descList]\n",
    "calculator = MolecularDescriptorCalculator(descriptors_list)\n",
    "calc_descriptors = [calculator.CalcDescriptors(m) for m in mols]"
   ]
  },
  {
   "cell_type": "code",
   "execution_count": 83,
   "id": "rental-horizontal",
   "metadata": {},
   "outputs": [],
   "source": [
    "df = pd.DataFrame(calc_descriptors, columns=descriptors_list)"
   ]
  },
  {
   "cell_type": "code",
   "execution_count": 84,
   "id": "defensive-rally",
   "metadata": {},
   "outputs": [
    {
     "data": {
      "text/html": [
       "<div>\n",
       "<style scoped>\n",
       "    .dataframe tbody tr th:only-of-type {\n",
       "        vertical-align: middle;\n",
       "    }\n",
       "\n",
       "    .dataframe tbody tr th {\n",
       "        vertical-align: top;\n",
       "    }\n",
       "\n",
       "    .dataframe thead th {\n",
       "        text-align: right;\n",
       "    }\n",
       "</style>\n",
       "<table border=\"1\" class=\"dataframe\">\n",
       "  <thead>\n",
       "    <tr style=\"text-align: right;\">\n",
       "      <th></th>\n",
       "      <th>MaxEStateIndex</th>\n",
       "      <th>MinEStateIndex</th>\n",
       "      <th>MaxAbsEStateIndex</th>\n",
       "      <th>MinAbsEStateIndex</th>\n",
       "      <th>qed</th>\n",
       "      <th>MolWt</th>\n",
       "      <th>HeavyAtomMolWt</th>\n",
       "      <th>ExactMolWt</th>\n",
       "      <th>NumValenceElectrons</th>\n",
       "      <th>NumRadicalElectrons</th>\n",
       "      <th>...</th>\n",
       "      <th>fr_sulfide</th>\n",
       "      <th>fr_sulfonamd</th>\n",
       "      <th>fr_sulfone</th>\n",
       "      <th>fr_term_acetylene</th>\n",
       "      <th>fr_tetrazole</th>\n",
       "      <th>fr_thiazole</th>\n",
       "      <th>fr_thiocyan</th>\n",
       "      <th>fr_thiophene</th>\n",
       "      <th>fr_unbrch_alkane</th>\n",
       "      <th>fr_urea</th>\n",
       "    </tr>\n",
       "  </thead>\n",
       "  <tbody>\n",
       "    <tr>\n",
       "      <th>0</th>\n",
       "      <td>14.135814</td>\n",
       "      <td>-1.022707</td>\n",
       "      <td>14.135814</td>\n",
       "      <td>0.116928</td>\n",
       "      <td>0.308873</td>\n",
       "      <td>555.075</td>\n",
       "      <td>519.795</td>\n",
       "      <td>554.229598</td>\n",
       "      <td>208</td>\n",
       "      <td>0</td>\n",
       "      <td>...</td>\n",
       "      <td>0</td>\n",
       "      <td>0</td>\n",
       "      <td>0</td>\n",
       "      <td>0</td>\n",
       "      <td>0</td>\n",
       "      <td>0</td>\n",
       "      <td>0</td>\n",
       "      <td>0</td>\n",
       "      <td>0</td>\n",
       "      <td>0</td>\n",
       "    </tr>\n",
       "    <tr>\n",
       "      <th>1</th>\n",
       "      <td>13.490509</td>\n",
       "      <td>-3.779742</td>\n",
       "      <td>13.490509</td>\n",
       "      <td>0.010989</td>\n",
       "      <td>0.587016</td>\n",
       "      <td>485.993</td>\n",
       "      <td>461.801</td>\n",
       "      <td>485.117605</td>\n",
       "      <td>172</td>\n",
       "      <td>0</td>\n",
       "      <td>...</td>\n",
       "      <td>0</td>\n",
       "      <td>1</td>\n",
       "      <td>0</td>\n",
       "      <td>0</td>\n",
       "      <td>0</td>\n",
       "      <td>0</td>\n",
       "      <td>0</td>\n",
       "      <td>0</td>\n",
       "      <td>0</td>\n",
       "      <td>0</td>\n",
       "    </tr>\n",
       "    <tr>\n",
       "      <th>2</th>\n",
       "      <td>14.256120</td>\n",
       "      <td>-1.003594</td>\n",
       "      <td>14.256120</td>\n",
       "      <td>0.144602</td>\n",
       "      <td>0.273005</td>\n",
       "      <td>592.100</td>\n",
       "      <td>557.828</td>\n",
       "      <td>591.236080</td>\n",
       "      <td>220</td>\n",
       "      <td>0</td>\n",
       "      <td>...</td>\n",
       "      <td>0</td>\n",
       "      <td>0</td>\n",
       "      <td>0</td>\n",
       "      <td>0</td>\n",
       "      <td>0</td>\n",
       "      <td>0</td>\n",
       "      <td>0</td>\n",
       "      <td>0</td>\n",
       "      <td>0</td>\n",
       "      <td>0</td>\n",
       "    </tr>\n",
       "    <tr>\n",
       "      <th>3</th>\n",
       "      <td>13.843030</td>\n",
       "      <td>-0.460244</td>\n",
       "      <td>13.843030</td>\n",
       "      <td>0.198219</td>\n",
       "      <td>0.510128</td>\n",
       "      <td>450.905</td>\n",
       "      <td>430.745</td>\n",
       "      <td>450.137115</td>\n",
       "      <td>162</td>\n",
       "      <td>0</td>\n",
       "      <td>...</td>\n",
       "      <td>0</td>\n",
       "      <td>0</td>\n",
       "      <td>0</td>\n",
       "      <td>0</td>\n",
       "      <td>0</td>\n",
       "      <td>0</td>\n",
       "      <td>0</td>\n",
       "      <td>0</td>\n",
       "      <td>0</td>\n",
       "      <td>0</td>\n",
       "    </tr>\n",
       "    <tr>\n",
       "      <th>4</th>\n",
       "      <td>14.125541</td>\n",
       "      <td>-0.910110</td>\n",
       "      <td>14.125541</td>\n",
       "      <td>0.139021</td>\n",
       "      <td>0.353783</td>\n",
       "      <td>533.032</td>\n",
       "      <td>503.800</td>\n",
       "      <td>532.198966</td>\n",
       "      <td>196</td>\n",
       "      <td>0</td>\n",
       "      <td>...</td>\n",
       "      <td>0</td>\n",
       "      <td>0</td>\n",
       "      <td>0</td>\n",
       "      <td>0</td>\n",
       "      <td>0</td>\n",
       "      <td>0</td>\n",
       "      <td>0</td>\n",
       "      <td>0</td>\n",
       "      <td>0</td>\n",
       "      <td>0</td>\n",
       "    </tr>\n",
       "  </tbody>\n",
       "</table>\n",
       "<p>5 rows × 208 columns</p>\n",
       "</div>"
      ],
      "text/plain": [
       "   MaxEStateIndex  MinEStateIndex  MaxAbsEStateIndex  MinAbsEStateIndex  \\\n",
       "0       14.135814       -1.022707          14.135814           0.116928   \n",
       "1       13.490509       -3.779742          13.490509           0.010989   \n",
       "2       14.256120       -1.003594          14.256120           0.144602   \n",
       "3       13.843030       -0.460244          13.843030           0.198219   \n",
       "4       14.125541       -0.910110          14.125541           0.139021   \n",
       "\n",
       "        qed    MolWt  HeavyAtomMolWt  ExactMolWt  NumValenceElectrons  \\\n",
       "0  0.308873  555.075         519.795  554.229598                  208   \n",
       "1  0.587016  485.993         461.801  485.117605                  172   \n",
       "2  0.273005  592.100         557.828  591.236080                  220   \n",
       "3  0.510128  450.905         430.745  450.137115                  162   \n",
       "4  0.353783  533.032         503.800  532.198966                  196   \n",
       "\n",
       "   NumRadicalElectrons  ...  fr_sulfide  fr_sulfonamd  fr_sulfone  \\\n",
       "0                    0  ...           0             0           0   \n",
       "1                    0  ...           0             1           0   \n",
       "2                    0  ...           0             0           0   \n",
       "3                    0  ...           0             0           0   \n",
       "4                    0  ...           0             0           0   \n",
       "\n",
       "   fr_term_acetylene  fr_tetrazole  fr_thiazole  fr_thiocyan  fr_thiophene  \\\n",
       "0                  0             0            0            0             0   \n",
       "1                  0             0            0            0             0   \n",
       "2                  0             0            0            0             0   \n",
       "3                  0             0            0            0             0   \n",
       "4                  0             0            0            0             0   \n",
       "\n",
       "   fr_unbrch_alkane  fr_urea  \n",
       "0                 0        0  \n",
       "1                 0        0  \n",
       "2                 0        0  \n",
       "3                 0        0  \n",
       "4                 0        0  \n",
       "\n",
       "[5 rows x 208 columns]"
      ]
     },
     "execution_count": 84,
     "metadata": {},
     "output_type": "execute_result"
    }
   ],
   "source": [
    "df.head()"
   ]
  },
  {
   "cell_type": "code",
   "execution_count": 85,
   "id": "running-grant",
   "metadata": {},
   "outputs": [],
   "source": [
    "df.insert(0, column='CID', value=data['CID'].tolist())\n",
    "df.insert(0, column='LABEL', value=data['LABEL'].tolist())"
   ]
  },
  {
   "cell_type": "code",
   "execution_count": 106,
   "id": "incoming-relationship",
   "metadata": {},
   "outputs": [
    {
     "data": {
      "text/html": [
       "<div>\n",
       "<style scoped>\n",
       "    .dataframe tbody tr th:only-of-type {\n",
       "        vertical-align: middle;\n",
       "    }\n",
       "\n",
       "    .dataframe tbody tr th {\n",
       "        vertical-align: top;\n",
       "    }\n",
       "\n",
       "    .dataframe thead th {\n",
       "        text-align: right;\n",
       "    }\n",
       "</style>\n",
       "<table border=\"1\" class=\"dataframe\">\n",
       "  <thead>\n",
       "    <tr style=\"text-align: right;\">\n",
       "      <th></th>\n",
       "      <th>LABEL</th>\n",
       "      <th>CID</th>\n",
       "      <th>MaxEStateIndex</th>\n",
       "      <th>MinEStateIndex</th>\n",
       "      <th>MaxAbsEStateIndex</th>\n",
       "      <th>MinAbsEStateIndex</th>\n",
       "      <th>qed</th>\n",
       "      <th>MolWt</th>\n",
       "      <th>HeavyAtomMolWt</th>\n",
       "      <th>ExactMolWt</th>\n",
       "      <th>...</th>\n",
       "      <th>fr_sulfide</th>\n",
       "      <th>fr_sulfonamd</th>\n",
       "      <th>fr_sulfone</th>\n",
       "      <th>fr_term_acetylene</th>\n",
       "      <th>fr_tetrazole</th>\n",
       "      <th>fr_thiazole</th>\n",
       "      <th>fr_thiocyan</th>\n",
       "      <th>fr_thiophene</th>\n",
       "      <th>fr_unbrch_alkane</th>\n",
       "      <th>fr_urea</th>\n",
       "    </tr>\n",
       "  </thead>\n",
       "  <tbody>\n",
       "    <tr>\n",
       "      <th>0</th>\n",
       "      <td>1</td>\n",
       "      <td>MAT-POS-61f37a1a-1</td>\n",
       "      <td>14.135814</td>\n",
       "      <td>-1.022707</td>\n",
       "      <td>14.135814</td>\n",
       "      <td>0.116928</td>\n",
       "      <td>0.308873</td>\n",
       "      <td>555.075</td>\n",
       "      <td>519.795</td>\n",
       "      <td>554.229598</td>\n",
       "      <td>...</td>\n",
       "      <td>0</td>\n",
       "      <td>0</td>\n",
       "      <td>0</td>\n",
       "      <td>0</td>\n",
       "      <td>0</td>\n",
       "      <td>0</td>\n",
       "      <td>0</td>\n",
       "      <td>0</td>\n",
       "      <td>0</td>\n",
       "      <td>0</td>\n",
       "    </tr>\n",
       "    <tr>\n",
       "      <th>1</th>\n",
       "      <td>1</td>\n",
       "      <td>MAT-POS-61f37a1a-2</td>\n",
       "      <td>13.490509</td>\n",
       "      <td>-3.779742</td>\n",
       "      <td>13.490509</td>\n",
       "      <td>0.010989</td>\n",
       "      <td>0.587016</td>\n",
       "      <td>485.993</td>\n",
       "      <td>461.801</td>\n",
       "      <td>485.117605</td>\n",
       "      <td>...</td>\n",
       "      <td>0</td>\n",
       "      <td>1</td>\n",
       "      <td>0</td>\n",
       "      <td>0</td>\n",
       "      <td>0</td>\n",
       "      <td>0</td>\n",
       "      <td>0</td>\n",
       "      <td>0</td>\n",
       "      <td>0</td>\n",
       "      <td>0</td>\n",
       "    </tr>\n",
       "    <tr>\n",
       "      <th>2</th>\n",
       "      <td>1</td>\n",
       "      <td>MAT-POS-61f37a1a-4</td>\n",
       "      <td>14.256120</td>\n",
       "      <td>-1.003594</td>\n",
       "      <td>14.256120</td>\n",
       "      <td>0.144602</td>\n",
       "      <td>0.273005</td>\n",
       "      <td>592.100</td>\n",
       "      <td>557.828</td>\n",
       "      <td>591.236080</td>\n",
       "      <td>...</td>\n",
       "      <td>0</td>\n",
       "      <td>0</td>\n",
       "      <td>0</td>\n",
       "      <td>0</td>\n",
       "      <td>0</td>\n",
       "      <td>0</td>\n",
       "      <td>0</td>\n",
       "      <td>0</td>\n",
       "      <td>0</td>\n",
       "      <td>0</td>\n",
       "    </tr>\n",
       "    <tr>\n",
       "      <th>3</th>\n",
       "      <td>1</td>\n",
       "      <td>MAT-POS-61f37a1a-5</td>\n",
       "      <td>13.843030</td>\n",
       "      <td>-0.460244</td>\n",
       "      <td>13.843030</td>\n",
       "      <td>0.198219</td>\n",
       "      <td>0.510128</td>\n",
       "      <td>450.905</td>\n",
       "      <td>430.745</td>\n",
       "      <td>450.137115</td>\n",
       "      <td>...</td>\n",
       "      <td>0</td>\n",
       "      <td>0</td>\n",
       "      <td>0</td>\n",
       "      <td>0</td>\n",
       "      <td>0</td>\n",
       "      <td>0</td>\n",
       "      <td>0</td>\n",
       "      <td>0</td>\n",
       "      <td>0</td>\n",
       "      <td>0</td>\n",
       "    </tr>\n",
       "    <tr>\n",
       "      <th>4</th>\n",
       "      <td>1</td>\n",
       "      <td>MAT-POS-61f37a1a-7</td>\n",
       "      <td>14.125541</td>\n",
       "      <td>-0.910110</td>\n",
       "      <td>14.125541</td>\n",
       "      <td>0.139021</td>\n",
       "      <td>0.353783</td>\n",
       "      <td>533.032</td>\n",
       "      <td>503.800</td>\n",
       "      <td>532.198966</td>\n",
       "      <td>...</td>\n",
       "      <td>0</td>\n",
       "      <td>0</td>\n",
       "      <td>0</td>\n",
       "      <td>0</td>\n",
       "      <td>0</td>\n",
       "      <td>0</td>\n",
       "      <td>0</td>\n",
       "      <td>0</td>\n",
       "      <td>0</td>\n",
       "      <td>0</td>\n",
       "    </tr>\n",
       "  </tbody>\n",
       "</table>\n",
       "<p>5 rows × 210 columns</p>\n",
       "</div>"
      ],
      "text/plain": [
       "   LABEL                 CID  MaxEStateIndex  MinEStateIndex  \\\n",
       "0      1  MAT-POS-61f37a1a-1       14.135814       -1.022707   \n",
       "1      1  MAT-POS-61f37a1a-2       13.490509       -3.779742   \n",
       "2      1  MAT-POS-61f37a1a-4       14.256120       -1.003594   \n",
       "3      1  MAT-POS-61f37a1a-5       13.843030       -0.460244   \n",
       "4      1  MAT-POS-61f37a1a-7       14.125541       -0.910110   \n",
       "\n",
       "   MaxAbsEStateIndex  MinAbsEStateIndex       qed    MolWt  HeavyAtomMolWt  \\\n",
       "0          14.135814           0.116928  0.308873  555.075         519.795   \n",
       "1          13.490509           0.010989  0.587016  485.993         461.801   \n",
       "2          14.256120           0.144602  0.273005  592.100         557.828   \n",
       "3          13.843030           0.198219  0.510128  450.905         430.745   \n",
       "4          14.125541           0.139021  0.353783  533.032         503.800   \n",
       "\n",
       "   ExactMolWt  ...  fr_sulfide  fr_sulfonamd  fr_sulfone  fr_term_acetylene  \\\n",
       "0  554.229598  ...           0             0           0                  0   \n",
       "1  485.117605  ...           0             1           0                  0   \n",
       "2  591.236080  ...           0             0           0                  0   \n",
       "3  450.137115  ...           0             0           0                  0   \n",
       "4  532.198966  ...           0             0           0                  0   \n",
       "\n",
       "   fr_tetrazole  fr_thiazole  fr_thiocyan  fr_thiophene  fr_unbrch_alkane  \\\n",
       "0             0            0            0             0                 0   \n",
       "1             0            0            0             0                 0   \n",
       "2             0            0            0             0                 0   \n",
       "3             0            0            0             0                 0   \n",
       "4             0            0            0             0                 0   \n",
       "\n",
       "   fr_urea  \n",
       "0        0  \n",
       "1        0  \n",
       "2        0  \n",
       "3        0  \n",
       "4        0  \n",
       "\n",
       "[5 rows x 210 columns]"
      ]
     },
     "execution_count": 106,
     "metadata": {},
     "output_type": "execute_result"
    }
   ],
   "source": [
    "df.head()"
   ]
  },
  {
   "cell_type": "code",
   "execution_count": 87,
   "id": "hazardous-syntax",
   "metadata": {},
   "outputs": [],
   "source": [
    "X = df.iloc[:, 2:].values\n",
    "y = df.iloc[:, 0].values"
   ]
  },
  {
   "cell_type": "code",
   "execution_count": 88,
   "id": "colonial-treasurer",
   "metadata": {},
   "outputs": [],
   "source": [
    "from sklearn.model_selection import train_test_split\n",
    "\n",
    "X_train, X_test, y_train, y_test = train_test_split(X, y, test_size=0.2, random_state=0)"
   ]
  },
  {
   "cell_type": "code",
   "execution_count": 89,
   "id": "charged-giant",
   "metadata": {},
   "outputs": [],
   "source": [
    "# Feature Scaling\n",
    "from sklearn.preprocessing import StandardScaler\n",
    "\n",
    "sc = StandardScaler()\n",
    "X_train = sc.fit_transform(X_train)\n",
    "X_test = sc.transform(X_test)"
   ]
  },
  {
   "cell_type": "code",
   "execution_count": 90,
   "id": "imported-prompt",
   "metadata": {},
   "outputs": [],
   "source": [
    "from sklearn.ensemble import RandomForestClassifier\n",
    "\n",
    "classifier = RandomForestClassifier(n_estimators=20, random_state=0)\n",
    "classifier.fit(X_train, y_train)\n",
    "y_pred = classifier.predict(X_test)\n",
    "\n"
   ]
  },
  {
   "cell_type": "code",
   "execution_count": 91,
   "id": "falling-wheel",
   "metadata": {},
   "outputs": [
    {
     "name": "stdout",
     "output_type": "stream",
     "text": [
      "[[111  21]\n",
      " [ 22  70]]\n",
      "              precision    recall  f1-score   support\n",
      "\n",
      "           0       0.83      0.84      0.84       132\n",
      "           1       0.77      0.76      0.77        92\n",
      "\n",
      "    accuracy                           0.81       224\n",
      "   macro avg       0.80      0.80      0.80       224\n",
      "weighted avg       0.81      0.81      0.81       224\n",
      "\n",
      "0.8080357142857143\n"
     ]
    }
   ],
   "source": [
    "from sklearn.metrics import classification_report, confusion_matrix, accuracy_score\n",
    "\n",
    "print(confusion_matrix(y_test,y_pred))\n",
    "print(classification_report(y_test,y_pred))\n",
    "print(accuracy_score(y_test, y_pred))"
   ]
  },
  {
   "cell_type": "code",
   "execution_count": 92,
   "id": "leading-secondary",
   "metadata": {},
   "outputs": [
    {
     "name": "stdout",
     "output_type": "stream",
     "text": [
      "[[467  23]\n",
      " [  4 399]]\n",
      "              precision    recall  f1-score   support\n",
      "\n",
      "           0       0.99      0.95      0.97       490\n",
      "           1       0.95      0.99      0.97       403\n",
      "\n",
      "    accuracy                           0.97       893\n",
      "   macro avg       0.97      0.97      0.97       893\n",
      "weighted avg       0.97      0.97      0.97       893\n",
      "\n",
      "0.9697648376259799\n"
     ]
    }
   ],
   "source": [
    "# Just checking the Training set\n",
    "x_pred = classifier.predict(X_train)\n",
    "print(confusion_matrix(y_train,x_pred))\n",
    "print(classification_report(y_train,x_pred))\n",
    "print(accuracy_score(y_train,x_pred))"
   ]
  },
  {
   "cell_type": "code",
   "execution_count": 104,
   "id": "minute-subdivision",
   "metadata": {},
   "outputs": [
    {
     "name": "stdout",
     "output_type": "stream",
     "text": [
      "Mean Absolute Error: 0.19196428571428573\n",
      "Mean Squared Error: 0.19196428571428573\n",
      "Root Mean Squared Error: 0.43813729094233206\n"
     ]
    }
   ],
   "source": [
    "from sklearn import metrics\n",
    "\n",
    "print('Mean Absolute Error:', metrics.mean_absolute_error(y_test, y_pred))\n",
    "print('Mean Squared Error:', metrics.mean_squared_error(y_test, y_pred))\n",
    "print('Root Mean Squared Error:', np.sqrt(metrics.mean_squared_error(y_test, y_pred)))"
   ]
  },
  {
   "cell_type": "code",
   "execution_count": 94,
   "id": "surface-rabbit",
   "metadata": {},
   "outputs": [],
   "source": [
    "def run_classifier(n) :\n",
    "    classifier = RandomForestClassifier(n_estimators=n, random_state=0)\n",
    "    classifier.fit(X_train, y_train)\n",
    "    y_pred = classifier.predict(X_test)\n",
    "    return np.sqrt(metrics.mean_squared_error(y_test, y_pred))"
   ]
  },
  {
   "cell_type": "code",
   "execution_count": 95,
   "id": "fabulous-gross",
   "metadata": {},
   "outputs": [],
   "source": [
    "rmse=[]\n",
    "for n in [5,10,20,50,100,200]:\n",
    "    rmse.append([n,run_classifier(n)])"
   ]
  },
  {
   "cell_type": "code",
   "execution_count": 96,
   "id": "affecting-customs",
   "metadata": {},
   "outputs": [
    {
     "data": {
      "text/plain": [
       "<AxesSubplot:xlabel='0'>"
      ]
     },
     "execution_count": 96,
     "metadata": {},
     "output_type": "execute_result"
    },
    {
     "data": {
      "image/png": "[encoded data removed]",
      "text/plain": [
       "<Figure size 432x288 with 1 Axes>"
      ]
     },
     "metadata": {
      "needs_background": "light"
     },
     "output_type": "display_data"
    }
   ],
   "source": [
    "pd.DataFrame(rmse).plot(x=0,y=1)"
   ]
  },
  {
   "cell_type": "code",
   "execution_count": 97,
   "id": "owned-telling",
   "metadata": {},
   "outputs": [
    {
     "data": {
      "image/png": "[encoded data removed]",
      "text/plain": [
       "<Figure size 432x288 with 1 Axes>"
      ]
     },
     "metadata": {
      "needs_background": "light"
     },
     "output_type": "display_data"
    }
   ],
   "source": [
    "# ROC\n",
    "from sklearn.svm import SVC\n",
    "from sklearn.metrics import plot_roc_curve\n",
    "\n",
    "svc = SVC(random_state=42)\n",
    "svc.fit(X_train, y_train)\n",
    "\n",
    "rfc = RandomForestClassifier(n_estimators=20, random_state=42)\n",
    "rfc.fit(X_train, y_train)\n",
    "\n",
    "ax = plt.gca()\n",
    "\n",
    "rfc_disp = plot_roc_curve(rfc, X_test, y_test, ax=ax, alpha=0.8)\n",
    "svc_disp = plot_roc_curve(svc, X_test, y_test, ax=ax, alpha=0.8)\n",
    "\n",
    "plt.plot([0, 1], [0, 1], color='navy', lw=1, linestyle='--')\n",
    "\n",
    "plt.show()"
   ]
  },
  {
   "cell_type": "code",
   "execution_count": 98,
   "id": "removable-cigarette",
   "metadata": {},
   "outputs": [],
   "source": [
    "feature_names = [f'feature {i}' for i in range(X.shape[1])]"
   ]
  },
  {
   "cell_type": "code",
   "execution_count": 99,
   "id": "italian-advantage",
   "metadata": {},
   "outputs": [
    {
     "name": "stdout",
     "output_type": "stream",
     "text": [
      "Elapsed time to compute the importances: 0.020 seconds\n"
     ]
    }
   ],
   "source": [
    "import time\n",
    "import numpy as np\n",
    "\n",
    "start_time = time.time()\n",
    "importances = rfc.feature_importances_\n",
    "std = np.std([\n",
    "    tree.feature_importances_ for tree in rfc.estimators_], axis=0)\n",
    "elapsed_time = time.time() - start_time\n",
    "\n",
    "print(f\"Elapsed time to compute the importances: \"\n",
    "      f\"{elapsed_time:.3f} seconds\")"
   ]
  },
  {
   "cell_type": "code",
   "execution_count": 77,
   "id": "valued-retail",
   "metadata": {},
   "outputs": [
    {
     "data": {
      "image/png": "[encoded data removed]",
      "text/plain": [
       "<Figure size 432x288 with 1 Axes>"
      ]
     },
     "metadata": {
      "needs_background": "light"
     },
     "output_type": "display_data"
    }
   ],
   "source": [
    "forest_importances = pd.Series(importances, index=feature_names)\n",
    "\n",
    "fig, ax = plt.subplots()\n",
    "forest_importances.plot.bar(yerr=std, ax=ax)\n",
    "ax.set_title(\"Feature importances using MDI\")\n",
    "ax.set_ylabel(\"Mean decrease in impurity\")\n",
    "fig.tight_layout()"
   ]
  },
  {
   "cell_type": "code",
   "execution_count": 100,
   "id": "behavioral-fitness",
   "metadata": {},
   "outputs": [
    {
     "data": {
      "text/plain": [
       "208"
      ]
     },
     "execution_count": 100,
     "metadata": {},
     "output_type": "execute_result"
    }
   ],
   "source": [
    "X.shape[1]"
   ]
  },
  {
   "cell_type": "code",
   "execution_count": 101,
   "id": "dental-mistress",
   "metadata": {},
   "outputs": [
    {
     "name": "stdout",
     "output_type": "stream",
     "text": [
      "0.8008893280632412\n"
     ]
    }
   ],
   "source": [
    "from sklearn.metrics import roc_curve, auc\n",
    "fpr, tpr, _ = roc_curve(y_test,y_pred)\n",
    "print(auc(fpr, tpr))"
   ]
  }
 ],
 "metadata": {
  "kernelspec": {
   "display_name": "Python 3",
   "language": "python",
   "name": "python3"
  },
  "language_info": {
   "codemirror_mode": {
    "name": "ipython",
    "version": 3
   },
   "file_extension": ".py",
   "mimetype": "text/x-python",
   "name": "python",
   "nbconvert_exporter": "python",
   "pygments_lexer": "ipython3",
   "version": "3.9.2"
  }
 },
 "nbformat": 4,
 "nbformat_minor": 5
}

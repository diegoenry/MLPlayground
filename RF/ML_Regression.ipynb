{
 "cells": [
  {
   "cell_type": "code",
   "execution_count": 1,
   "id": "figured-british",
   "metadata": {},
   "outputs": [],
   "source": [
    "import pandas as pd\n",
    "import numpy as np\n",
    "import seaborn as sns\n",
    "from matplotlib import pyplot as plt"
   ]
  },
  {
   "cell_type": "code",
   "execution_count": 2,
   "id": "otherwise-terminology",
   "metadata": {},
   "outputs": [],
   "source": [
    "activities = pd.read_csv('activity_data.csv')\n",
    "data = activities.query('f_avg_IC50 < 10')\n",
    "#data = activities"
   ]
  },
  {
   "cell_type": "code",
   "execution_count": 3,
   "id": "micro-yield",
   "metadata": {},
   "outputs": [
    {
     "name": "stdout",
     "output_type": "stream",
     "text": [
      "-8.18kcal/mol\n"
     ]
    }
   ],
   "source": [
    "# RTlnIC50\n",
    "#R=8.3144621 # J mol-1 K-1\n",
    "R=1.987E-3 # cal mol-1 K-1\n",
    "T=298.15\n",
    "dG = R*T*np.log(1E-6)\n",
    "print(f'{dG:.2f}kcal/mol')"
   ]
  },
  {
   "cell_type": "code",
   "execution_count": 4,
   "id": "everyday-illness",
   "metadata": {},
   "outputs": [
    {
     "name": "stderr",
     "output_type": "stream",
     "text": [
      "<ipython-input-4-c4e54f2d08bc>:1: SettingWithCopyWarning: \n",
      "A value is trying to be set on a copy of a slice from a DataFrame.\n",
      "Try using .loc[row_indexer,col_indexer] = value instead\n",
      "\n",
      "See the caveats in the documentation: https://pandas.pydata.org/pandas-docs/stable/user_guide/indexing.html#returning-a-view-versus-a-copy\n",
      "  data['dG'] = data['f_avg_IC50'].apply(lambda x: R*T*np.log(x/100000))\n"
     ]
    }
   ],
   "source": [
    "data['dG'] = data['f_avg_IC50'].apply(lambda x: R*T*np.log(x/100000))"
   ]
  },
  {
   "cell_type": "code",
   "execution_count": 5,
   "id": "hidden-tampa",
   "metadata": {},
   "outputs": [
    {
     "name": "stderr",
     "output_type": "stream",
     "text": [
      "/Users/dgomes/miniconda3/envs/modmol/lib/python3.9/site-packages/seaborn/distributions.py:2551: FutureWarning: `distplot` is a deprecated function and will be removed in a future version. Please adapt your code to use either `displot` (a figure-level function with similar flexibility) or `histplot` (an axes-level function for histograms).\n",
      "  warnings.warn(msg, FutureWarning)\n"
     ]
    },
    {
     "data": {
      "text/plain": [
       "<AxesSubplot:xlabel='dG', ylabel='Density'>"
      ]
     },
     "execution_count": 5,
     "metadata": {},
     "output_type": "execute_result"
    },
    {
     "data": {
      "image/png": "[encoded data removed]",
      "text/plain": [
       "<Figure size 432x288 with 1 Axes>"
      ]
     },
     "metadata": {
      "needs_background": "light"
     },
     "output_type": "display_data"
    }
   ],
   "source": [
    "sns.distplot(data['dG'])"
   ]
  },
  {
   "cell_type": "code",
   "execution_count": 6,
   "id": "parliamentary-dominant",
   "metadata": {},
   "outputs": [],
   "source": [
    "data[['SMILES','CID']].to_csv('smiles.smi')"
   ]
  },
  {
   "cell_type": "code",
   "execution_count": 7,
   "id": "crude-arthritis",
   "metadata": {},
   "outputs": [],
   "source": [
    "from rdkit import Chem\n",
    "from rdkit.ML.Descriptors.MoleculeDescriptors import MolecularDescriptorCalculator\n",
    "\n",
    "mols = [Chem.MolFromSmiles(smi) for smi in data['SMILES']]"
   ]
  },
  {
   "cell_type": "code",
   "execution_count": 8,
   "id": "spectacular-baghdad",
   "metadata": {},
   "outputs": [],
   "source": [
    "# Get list of descriptors\n",
    "descriptors_list = [a[0] for a in Chem.Descriptors.descList]\n",
    "calculator = MolecularDescriptorCalculator(descriptors_list)\n",
    "calc_descriptors = [calculator.CalcDescriptors(m) for m in mols]"
   ]
  },
  {
   "cell_type": "code",
   "execution_count": 9,
   "id": "emotional-memory",
   "metadata": {},
   "outputs": [],
   "source": [
    "df = pd.DataFrame(calc_descriptors, columns=descriptors_list)"
   ]
  },
  {
   "cell_type": "code",
   "execution_count": 10,
   "id": "multiple-provider",
   "metadata": {},
   "outputs": [
    {
     "data": {
      "text/html": [
       "<div>\n",
       "<style scoped>\n",
       "    .dataframe tbody tr th:only-of-type {\n",
       "        vertical-align: middle;\n",
       "    }\n",
       "\n",
       "    .dataframe tbody tr th {\n",
       "        vertical-align: top;\n",
       "    }\n",
       "\n",
       "    .dataframe thead th {\n",
       "        text-align: right;\n",
       "    }\n",
       "</style>\n",
       "<table border=\"1\" class=\"dataframe\">\n",
       "  <thead>\n",
       "    <tr style=\"text-align: right;\">\n",
       "      <th></th>\n",
       "      <th>MaxEStateIndex</th>\n",
       "      <th>MinEStateIndex</th>\n",
       "      <th>MaxAbsEStateIndex</th>\n",
       "      <th>MinAbsEStateIndex</th>\n",
       "      <th>qed</th>\n",
       "      <th>MolWt</th>\n",
       "      <th>HeavyAtomMolWt</th>\n",
       "      <th>ExactMolWt</th>\n",
       "      <th>NumValenceElectrons</th>\n",
       "      <th>NumRadicalElectrons</th>\n",
       "      <th>...</th>\n",
       "      <th>fr_sulfide</th>\n",
       "      <th>fr_sulfonamd</th>\n",
       "      <th>fr_sulfone</th>\n",
       "      <th>fr_term_acetylene</th>\n",
       "      <th>fr_tetrazole</th>\n",
       "      <th>fr_thiazole</th>\n",
       "      <th>fr_thiocyan</th>\n",
       "      <th>fr_thiophene</th>\n",
       "      <th>fr_unbrch_alkane</th>\n",
       "      <th>fr_urea</th>\n",
       "    </tr>\n",
       "  </thead>\n",
       "  <tbody>\n",
       "    <tr>\n",
       "      <th>0</th>\n",
       "      <td>14.135814</td>\n",
       "      <td>-1.022707</td>\n",
       "      <td>14.135814</td>\n",
       "      <td>0.116928</td>\n",
       "      <td>0.308873</td>\n",
       "      <td>555.075</td>\n",
       "      <td>519.795</td>\n",
       "      <td>554.229598</td>\n",
       "      <td>208</td>\n",
       "      <td>0</td>\n",
       "      <td>...</td>\n",
       "      <td>0</td>\n",
       "      <td>0</td>\n",
       "      <td>0</td>\n",
       "      <td>0</td>\n",
       "      <td>0</td>\n",
       "      <td>0</td>\n",
       "      <td>0</td>\n",
       "      <td>0</td>\n",
       "      <td>0</td>\n",
       "      <td>0</td>\n",
       "    </tr>\n",
       "    <tr>\n",
       "      <th>1</th>\n",
       "      <td>13.490509</td>\n",
       "      <td>-3.779742</td>\n",
       "      <td>13.490509</td>\n",
       "      <td>0.010989</td>\n",
       "      <td>0.587016</td>\n",
       "      <td>485.993</td>\n",
       "      <td>461.801</td>\n",
       "      <td>485.117605</td>\n",
       "      <td>172</td>\n",
       "      <td>0</td>\n",
       "      <td>...</td>\n",
       "      <td>0</td>\n",
       "      <td>1</td>\n",
       "      <td>0</td>\n",
       "      <td>0</td>\n",
       "      <td>0</td>\n",
       "      <td>0</td>\n",
       "      <td>0</td>\n",
       "      <td>0</td>\n",
       "      <td>0</td>\n",
       "      <td>0</td>\n",
       "    </tr>\n",
       "    <tr>\n",
       "      <th>2</th>\n",
       "      <td>14.256120</td>\n",
       "      <td>-1.003594</td>\n",
       "      <td>14.256120</td>\n",
       "      <td>0.144602</td>\n",
       "      <td>0.273005</td>\n",
       "      <td>592.100</td>\n",
       "      <td>557.828</td>\n",
       "      <td>591.236080</td>\n",
       "      <td>220</td>\n",
       "      <td>0</td>\n",
       "      <td>...</td>\n",
       "      <td>0</td>\n",
       "      <td>0</td>\n",
       "      <td>0</td>\n",
       "      <td>0</td>\n",
       "      <td>0</td>\n",
       "      <td>0</td>\n",
       "      <td>0</td>\n",
       "      <td>0</td>\n",
       "      <td>0</td>\n",
       "      <td>0</td>\n",
       "    </tr>\n",
       "    <tr>\n",
       "      <th>3</th>\n",
       "      <td>13.843030</td>\n",
       "      <td>-0.460244</td>\n",
       "      <td>13.843030</td>\n",
       "      <td>0.198219</td>\n",
       "      <td>0.510128</td>\n",
       "      <td>450.905</td>\n",
       "      <td>430.745</td>\n",
       "      <td>450.137115</td>\n",
       "      <td>162</td>\n",
       "      <td>0</td>\n",
       "      <td>...</td>\n",
       "      <td>0</td>\n",
       "      <td>0</td>\n",
       "      <td>0</td>\n",
       "      <td>0</td>\n",
       "      <td>0</td>\n",
       "      <td>0</td>\n",
       "      <td>0</td>\n",
       "      <td>0</td>\n",
       "      <td>0</td>\n",
       "      <td>0</td>\n",
       "    </tr>\n",
       "    <tr>\n",
       "      <th>4</th>\n",
       "      <td>14.125541</td>\n",
       "      <td>-0.910110</td>\n",
       "      <td>14.125541</td>\n",
       "      <td>0.139021</td>\n",
       "      <td>0.353783</td>\n",
       "      <td>533.032</td>\n",
       "      <td>503.800</td>\n",
       "      <td>532.198966</td>\n",
       "      <td>196</td>\n",
       "      <td>0</td>\n",
       "      <td>...</td>\n",
       "      <td>0</td>\n",
       "      <td>0</td>\n",
       "      <td>0</td>\n",
       "      <td>0</td>\n",
       "      <td>0</td>\n",
       "      <td>0</td>\n",
       "      <td>0</td>\n",
       "      <td>0</td>\n",
       "      <td>0</td>\n",
       "      <td>0</td>\n",
       "    </tr>\n",
       "  </tbody>\n",
       "</table>\n",
       "<p>5 rows × 208 columns</p>\n",
       "</div>"
      ],
      "text/plain": [
       "   MaxEStateIndex  MinEStateIndex  MaxAbsEStateIndex  MinAbsEStateIndex  \\\n",
       "0       14.135814       -1.022707          14.135814           0.116928   \n",
       "1       13.490509       -3.779742          13.490509           0.010989   \n",
       "2       14.256120       -1.003594          14.256120           0.144602   \n",
       "3       13.843030       -0.460244          13.843030           0.198219   \n",
       "4       14.125541       -0.910110          14.125541           0.139021   \n",
       "\n",
       "        qed    MolWt  HeavyAtomMolWt  ExactMolWt  NumValenceElectrons  \\\n",
       "0  0.308873  555.075         519.795  554.229598                  208   \n",
       "1  0.587016  485.993         461.801  485.117605                  172   \n",
       "2  0.273005  592.100         557.828  591.236080                  220   \n",
       "3  0.510128  450.905         430.745  450.137115                  162   \n",
       "4  0.353783  533.032         503.800  532.198966                  196   \n",
       "\n",
       "   NumRadicalElectrons  ...  fr_sulfide  fr_sulfonamd  fr_sulfone  \\\n",
       "0                    0  ...           0             0           0   \n",
       "1                    0  ...           0             1           0   \n",
       "2                    0  ...           0             0           0   \n",
       "3                    0  ...           0             0           0   \n",
       "4                    0  ...           0             0           0   \n",
       "\n",
       "   fr_term_acetylene  fr_tetrazole  fr_thiazole  fr_thiocyan  fr_thiophene  \\\n",
       "0                  0             0            0            0             0   \n",
       "1                  0             0            0            0             0   \n",
       "2                  0             0            0            0             0   \n",
       "3                  0             0            0            0             0   \n",
       "4                  0             0            0            0             0   \n",
       "\n",
       "   fr_unbrch_alkane  fr_urea  \n",
       "0                 0        0  \n",
       "1                 0        0  \n",
       "2                 0        0  \n",
       "3                 0        0  \n",
       "4                 0        0  \n",
       "\n",
       "[5 rows x 208 columns]"
      ]
     },
     "execution_count": 10,
     "metadata": {},
     "output_type": "execute_result"
    }
   ],
   "source": [
    "df.head()"
   ]
  },
  {
   "cell_type": "code",
   "execution_count": 11,
   "id": "improved-calendar",
   "metadata": {},
   "outputs": [],
   "source": [
    "# Compute the correlation matrix\n",
    "corr = df.corr().abs()\n",
    "\n",
    "# https://chrisalbon.com/machine_learning/feature_selection/drop_highly_correlated_features/\n",
    "# Create correlation matrix\n",
    "\n",
    "# Select upper triangle of correlation matrix\n",
    "value=0.5\n",
    "upper = corr.where(np.triu(np.ones(corr.shape), k=1).astype(np.bool))\n",
    "\n",
    "# Find features with correlation greater than \"value\"\n",
    "to_drop = [column for column in upper.columns if any(upper[column] > value)]\n",
    "\n",
    "# Drop features \n",
    "df.drop(df[to_drop], axis=1,inplace=True)"
   ]
  },
  {
   "cell_type": "code",
   "execution_count": 12,
   "id": "martial-implementation",
   "metadata": {},
   "outputs": [
    {
     "data": {
      "text/html": [
       "<div>\n",
       "<style scoped>\n",
       "    .dataframe tbody tr th:only-of-type {\n",
       "        vertical-align: middle;\n",
       "    }\n",
       "\n",
       "    .dataframe tbody tr th {\n",
       "        vertical-align: top;\n",
       "    }\n",
       "\n",
       "    .dataframe thead th {\n",
       "        text-align: right;\n",
       "    }\n",
       "</style>\n",
       "<table border=\"1\" class=\"dataframe\">\n",
       "  <thead>\n",
       "    <tr style=\"text-align: right;\">\n",
       "      <th></th>\n",
       "      <th>MaxEStateIndex</th>\n",
       "      <th>MinEStateIndex</th>\n",
       "      <th>MinAbsEStateIndex</th>\n",
       "      <th>qed</th>\n",
       "      <th>NumRadicalElectrons</th>\n",
       "      <th>MaxPartialCharge</th>\n",
       "      <th>MinPartialCharge</th>\n",
       "      <th>FpDensityMorgan1</th>\n",
       "      <th>BCUT2D_MWLOW</th>\n",
       "      <th>BCUT2D_MRHI</th>\n",
       "      <th>...</th>\n",
       "      <th>fr_piperdine</th>\n",
       "      <th>fr_prisulfonamd</th>\n",
       "      <th>fr_quatN</th>\n",
       "      <th>fr_sulfide</th>\n",
       "      <th>fr_sulfone</th>\n",
       "      <th>fr_tetrazole</th>\n",
       "      <th>fr_thiocyan</th>\n",
       "      <th>fr_thiophene</th>\n",
       "      <th>fr_unbrch_alkane</th>\n",
       "      <th>fr_urea</th>\n",
       "    </tr>\n",
       "  </thead>\n",
       "  <tbody>\n",
       "    <tr>\n",
       "      <th>0</th>\n",
       "      <td>14.135814</td>\n",
       "      <td>-1.022707</td>\n",
       "      <td>0.116928</td>\n",
       "      <td>0.308873</td>\n",
       "      <td>0</td>\n",
       "      <td>0.407416</td>\n",
       "      <td>-0.493219</td>\n",
       "      <td>1.205128</td>\n",
       "      <td>9.743588</td>\n",
       "      <td>6.303554</td>\n",
       "      <td>...</td>\n",
       "      <td>0</td>\n",
       "      <td>0</td>\n",
       "      <td>0</td>\n",
       "      <td>0</td>\n",
       "      <td>0</td>\n",
       "      <td>0</td>\n",
       "      <td>0</td>\n",
       "      <td>0</td>\n",
       "      <td>0</td>\n",
       "      <td>0</td>\n",
       "    </tr>\n",
       "    <tr>\n",
       "      <th>1</th>\n",
       "      <td>13.490509</td>\n",
       "      <td>-3.779742</td>\n",
       "      <td>0.010989</td>\n",
       "      <td>0.587016</td>\n",
       "      <td>0</td>\n",
       "      <td>0.232833</td>\n",
       "      <td>-0.391723</td>\n",
       "      <td>1.151515</td>\n",
       "      <td>9.897554</td>\n",
       "      <td>7.893313</td>\n",
       "      <td>...</td>\n",
       "      <td>0</td>\n",
       "      <td>0</td>\n",
       "      <td>0</td>\n",
       "      <td>0</td>\n",
       "      <td>0</td>\n",
       "      <td>0</td>\n",
       "      <td>0</td>\n",
       "      <td>0</td>\n",
       "      <td>0</td>\n",
       "      <td>0</td>\n",
       "    </tr>\n",
       "    <tr>\n",
       "      <th>2</th>\n",
       "      <td>14.256120</td>\n",
       "      <td>-1.003594</td>\n",
       "      <td>0.144602</td>\n",
       "      <td>0.273005</td>\n",
       "      <td>0</td>\n",
       "      <td>0.407477</td>\n",
       "      <td>-0.493219</td>\n",
       "      <td>1.142857</td>\n",
       "      <td>9.743836</td>\n",
       "      <td>6.303564</td>\n",
       "      <td>...</td>\n",
       "      <td>0</td>\n",
       "      <td>0</td>\n",
       "      <td>0</td>\n",
       "      <td>0</td>\n",
       "      <td>0</td>\n",
       "      <td>0</td>\n",
       "      <td>0</td>\n",
       "      <td>0</td>\n",
       "      <td>0</td>\n",
       "      <td>0</td>\n",
       "    </tr>\n",
       "    <tr>\n",
       "      <th>3</th>\n",
       "      <td>13.843030</td>\n",
       "      <td>-0.460244</td>\n",
       "      <td>0.198219</td>\n",
       "      <td>0.510128</td>\n",
       "      <td>0</td>\n",
       "      <td>0.232793</td>\n",
       "      <td>-0.323637</td>\n",
       "      <td>1.250000</td>\n",
       "      <td>9.884614</td>\n",
       "      <td>6.302804</td>\n",
       "      <td>...</td>\n",
       "      <td>0</td>\n",
       "      <td>0</td>\n",
       "      <td>0</td>\n",
       "      <td>0</td>\n",
       "      <td>0</td>\n",
       "      <td>0</td>\n",
       "      <td>0</td>\n",
       "      <td>0</td>\n",
       "      <td>0</td>\n",
       "      <td>0</td>\n",
       "    </tr>\n",
       "    <tr>\n",
       "      <th>4</th>\n",
       "      <td>14.125541</td>\n",
       "      <td>-0.910110</td>\n",
       "      <td>0.139021</td>\n",
       "      <td>0.353783</td>\n",
       "      <td>0</td>\n",
       "      <td>0.236165</td>\n",
       "      <td>-0.493219</td>\n",
       "      <td>1.184211</td>\n",
       "      <td>9.743927</td>\n",
       "      <td>6.303542</td>\n",
       "      <td>...</td>\n",
       "      <td>0</td>\n",
       "      <td>0</td>\n",
       "      <td>0</td>\n",
       "      <td>0</td>\n",
       "      <td>0</td>\n",
       "      <td>0</td>\n",
       "      <td>0</td>\n",
       "      <td>0</td>\n",
       "      <td>0</td>\n",
       "      <td>0</td>\n",
       "    </tr>\n",
       "  </tbody>\n",
       "</table>\n",
       "<p>5 rows × 84 columns</p>\n",
       "</div>"
      ],
      "text/plain": [
       "   MaxEStateIndex  MinEStateIndex  MinAbsEStateIndex       qed  \\\n",
       "0       14.135814       -1.022707           0.116928  0.308873   \n",
       "1       13.490509       -3.779742           0.010989  0.587016   \n",
       "2       14.256120       -1.003594           0.144602  0.273005   \n",
       "3       13.843030       -0.460244           0.198219  0.510128   \n",
       "4       14.125541       -0.910110           0.139021  0.353783   \n",
       "\n",
       "   NumRadicalElectrons  MaxPartialCharge  MinPartialCharge  FpDensityMorgan1  \\\n",
       "0                    0          0.407416         -0.493219          1.205128   \n",
       "1                    0          0.232833         -0.391723          1.151515   \n",
       "2                    0          0.407477         -0.493219          1.142857   \n",
       "3                    0          0.232793         -0.323637          1.250000   \n",
       "4                    0          0.236165         -0.493219          1.184211   \n",
       "\n",
       "   BCUT2D_MWLOW  BCUT2D_MRHI  ...  fr_piperdine  fr_prisulfonamd  fr_quatN  \\\n",
       "0      9.743588     6.303554  ...             0                0         0   \n",
       "1      9.897554     7.893313  ...             0                0         0   \n",
       "2      9.743836     6.303564  ...             0                0         0   \n",
       "3      9.884614     6.302804  ...             0                0         0   \n",
       "4      9.743927     6.303542  ...             0                0         0   \n",
       "\n",
       "   fr_sulfide  fr_sulfone  fr_tetrazole  fr_thiocyan  fr_thiophene  \\\n",
       "0           0           0             0            0             0   \n",
       "1           0           0             0            0             0   \n",
       "2           0           0             0            0             0   \n",
       "3           0           0             0            0             0   \n",
       "4           0           0             0            0             0   \n",
       "\n",
       "   fr_unbrch_alkane  fr_urea  \n",
       "0                 0        0  \n",
       "1                 0        0  \n",
       "2                 0        0  \n",
       "3                 0        0  \n",
       "4                 0        0  \n",
       "\n",
       "[5 rows x 84 columns]"
      ]
     },
     "execution_count": 12,
     "metadata": {},
     "output_type": "execute_result"
    }
   ],
   "source": [
    "df.head()"
   ]
  },
  {
   "cell_type": "code",
   "execution_count": 13,
   "id": "directed-stocks",
   "metadata": {},
   "outputs": [
    {
     "data": {
      "text/plain": [
       "<AxesSubplot:>"
      ]
     },
     "execution_count": 13,
     "metadata": {},
     "output_type": "execute_result"
    },
    {
     "data": {
      "image/png": "[encoded data removed]",
      "text/plain": [
       "<Figure size 792x648 with 2 Axes>"
      ]
     },
     "metadata": {
      "needs_background": "light"
     },
     "output_type": "display_data"
    }
   ],
   "source": [
    "# Re-Compute the correlation matrix\n",
    "corr = df.corr().abs()\n",
    "\n",
    "# Generate a mask for the upper triangle\n",
    "mask = np.triu(np.ones_like(corr, dtype=bool))\n",
    "\n",
    "# Set up the matplotlib figure\n",
    "f, ax = plt.subplots(figsize=(11, 9))\n",
    "\n",
    "# Generate a custom diverging colormap\n",
    "cmap = sns.diverging_palette(230, 20, as_cmap=True)\n",
    "\n",
    "# Draw the heatmap with the mask and correct aspect ratio\n",
    "sns.heatmap(corr, mask=mask, cmap=cmap, vmax=.3, center=0,\n",
    "            square=True, linewidths=.5, cbar_kws={\"shrink\": .5})\n",
    "\n"
   ]
  },
  {
   "cell_type": "code",
   "execution_count": 14,
   "id": "objective-crash",
   "metadata": {},
   "outputs": [],
   "source": [
    "df.insert(0, column='CID', value=data['CID'].tolist())\n",
    "df.insert(0, column='dG', value=data['dG'].tolist())"
   ]
  },
  {
   "cell_type": "code",
   "execution_count": 15,
   "id": "protected-bottle",
   "metadata": {},
   "outputs": [],
   "source": [
    "df.dropna(inplace=True)"
   ]
  },
  {
   "cell_type": "code",
   "execution_count": 16,
   "id": "entitled-future",
   "metadata": {},
   "outputs": [],
   "source": [
    "X = df.iloc[:, 2:].values\n",
    "y = df.iloc[:, 0].values"
   ]
  },
  {
   "cell_type": "code",
   "execution_count": 17,
   "id": "documentary-knife",
   "metadata": {},
   "outputs": [],
   "source": [
    "from sklearn.model_selection import train_test_split\n",
    "\n",
    "X_train, X_test, y_train, y_test = train_test_split(X, y, test_size=0.2, random_state=0)"
   ]
  },
  {
   "cell_type": "code",
   "execution_count": 18,
   "id": "worldwide-chosen",
   "metadata": {},
   "outputs": [],
   "source": [
    "# Feature Scaling\n",
    "from sklearn.preprocessing import StandardScaler\n",
    "\n",
    "sc = StandardScaler()\n",
    "X_train = sc.fit_transform(X_train)\n",
    "X_test = sc.transform(X_test)"
   ]
  },
  {
   "cell_type": "code",
   "execution_count": 19,
   "id": "specific-appendix",
   "metadata": {},
   "outputs": [],
   "source": [
    "from sklearn.ensemble import RandomForestRegressor\n",
    "rfr = RandomForestRegressor(n_estimators=20, random_state=42)\n",
    "rfr.fit(X_train, y_train)\n",
    "\n",
    "y_pred = rfr.predict(X_test)"
   ]
  },
  {
   "cell_type": "code",
   "execution_count": 20,
   "id": "protective-programmer",
   "metadata": {},
   "outputs": [
    {
     "name": "stdout",
     "output_type": "stream",
     "text": [
      " MAE: 0.52\n",
      " MSE: 0.45\n",
      "RMSE: 0.67\n"
     ]
    }
   ],
   "source": [
    "from sklearn import metrics\n",
    "\n",
    "print(f' MAE: {metrics.mean_absolute_error(y_test, y_pred):.2f}')\n",
    "print(f' MSE: {metrics.mean_squared_error(y_test, y_pred):.2f}')\n",
    "print(f'RMSE: {np.sqrt(metrics.mean_squared_error(y_test, y_pred)):.2f}')\n",
    "#print(\" RF - Accuracy: %.2f%%\" % (accuracy * 100.0))"
   ]
  },
  {
   "cell_type": "code",
   "execution_count": 21,
   "id": "unique-boutique",
   "metadata": {},
   "outputs": [
    {
     "name": "stderr",
     "output_type": "stream",
     "text": [
      "/Users/dgomes/miniconda3/envs/modmol/lib/python3.9/site-packages/seaborn/_decorators.py:36: FutureWarning: Pass the following variables as keyword args: x, y. From version 0.12, the only valid positional argument will be `data`, and passing other arguments without an explicit keyword will result in an error or misinterpretation.\n",
      "  warnings.warn(\n"
     ]
    },
    {
     "data": {
      "text/plain": [
       "Text(0, 0.5, 'dG pred')"
      ]
     },
     "execution_count": 21,
     "metadata": {},
     "output_type": "execute_result"
    },
    {
     "data": {
      "image/png": "[encoded data removed]",
      "text/plain": [
       "<Figure size 432x288 with 1 Axes>"
      ]
     },
     "metadata": {
      "needs_background": "light"
     },
     "output_type": "display_data"
    }
   ],
   "source": [
    "sns.regplot(y_test,y_pred)\n",
    "plt.xlim(-8.5,-4)\n",
    "plt.ylim(-8.5,-4)\n",
    "plt.xlabel('dG exp')\n",
    "plt.ylabel('dG pred')"
   ]
  },
  {
   "cell_type": "code",
   "execution_count": 22,
   "id": "variable-rally",
   "metadata": {},
   "outputs": [
    {
     "name": "stderr",
     "output_type": "stream",
     "text": [
      "/Users/dgomes/miniconda3/envs/modmol/lib/python3.9/site-packages/seaborn/_decorators.py:36: FutureWarning: Pass the following variables as keyword args: x, y. From version 0.12, the only valid positional argument will be `data`, and passing other arguments without an explicit keyword will result in an error or misinterpretation.\n",
      "  warnings.warn(\n"
     ]
    },
    {
     "data": {
      "text/plain": [
       "Text(0, 0.5, 'dG pred')"
      ]
     },
     "execution_count": 22,
     "metadata": {},
     "output_type": "execute_result"
    },
    {
     "data": {
      "image/png": "[encoded data removed]",
      "text/plain": [
       "<Figure size 432x288 with 1 Axes>"
      ]
     },
     "metadata": {
      "needs_background": "light"
     },
     "output_type": "display_data"
    }
   ],
   "source": [
    "sns.regplot(y_test,y_pred)\n",
    "#plt.xlim(-10.0,-5.5)\n",
    "#plt.ylim(-10.0,-5.5)\n",
    "plt.xlabel('dG exp')\n",
    "plt.ylabel('dG pred')"
   ]
  },
  {
   "cell_type": "code",
   "execution_count": 23,
   "id": "affecting-cowboy",
   "metadata": {},
   "outputs": [],
   "source": [
    "# XGBoost"
   ]
  },
  {
   "cell_type": "code",
   "execution_count": 25,
   "id": "meaning-brass",
   "metadata": {},
   "outputs": [],
   "source": [
    "from xgboost import XGBRegressor\n",
    "xgb = XGBRegressor()\n",
    "xgb.fit(X_train, y_train)\n",
    "\n",
    "y_pred = xgb.predict(X_test)"
   ]
  },
  {
   "cell_type": "code",
   "execution_count": 27,
   "id": "shared-train",
   "metadata": {},
   "outputs": [
    {
     "name": "stderr",
     "output_type": "stream",
     "text": [
      "/Users/dgomes/miniconda3/envs/modmol/lib/python3.9/site-packages/seaborn/_decorators.py:36: FutureWarning: Pass the following variables as keyword args: x, y. From version 0.12, the only valid positional argument will be `data`, and passing other arguments without an explicit keyword will result in an error or misinterpretation.\n",
      "  warnings.warn(\n"
     ]
    },
    {
     "data": {
      "text/plain": [
       "<AxesSubplot:>"
      ]
     },
     "execution_count": 27,
     "metadata": {},
     "output_type": "execute_result"
    },
    {
     "data": {
      "image/png": "[encoded data removed]",
      "text/plain": [
       "<Figure size 432x288 with 1 Axes>"
      ]
     },
     "metadata": {
      "needs_background": "light"
     },
     "output_type": "display_data"
    }
   ],
   "source": [
    "sns.regplot(y_test,y_pred)"
   ]
  },
  {
   "cell_type": "code",
   "execution_count": 28,
   "id": "another-leisure",
   "metadata": {},
   "outputs": [
    {
     "name": "stdout",
     "output_type": "stream",
     "text": [
      " MAE: 0.57\n",
      " MSE: 0.50\n",
      "RMSE: 0.71\n"
     ]
    }
   ],
   "source": [
    "from sklearn import metrics\n",
    "\n",
    "print(f' MAE: {metrics.mean_absolute_error(y_test, y_pred):.2f}')\n",
    "print(f' MSE: {metrics.mean_squared_error(y_test, y_pred):.2f}')\n",
    "print(f'RMSE: {np.sqrt(metrics.mean_squared_error(y_test, y_pred)):.2f}')\n",
    "#print(\" RF - Accuracy: %.2f%%\" % (accuracy * 100.0))"
   ]
  },
  {
   "cell_type": "code",
   "execution_count": 29,
   "id": "racial-province",
   "metadata": {},
   "outputs": [
    {
     "data": {
      "text/plain": [
       "array([1.03094077, 0.80752264, 0.64294356, 0.77915515, 0.71733887])"
      ]
     },
     "execution_count": 29,
     "metadata": {},
     "output_type": "execute_result"
    }
   ],
   "source": [
    "from sklearn.model_selection import cross_val_score\n",
    "scores = cross_val_score(XGBRegressor(objective='reg:squarederror'), X, y, scoring='neg_mean_squared_error')\n",
    "(-scores)**0.5"
   ]
  },
  {
   "cell_type": "code",
   "execution_count": null,
   "id": "representative-princeton",
   "metadata": {},
   "outputs": [],
   "source": []
  }
 ],
 "metadata": {
  "kernelspec": {
   "display_name": "Python 3",
   "language": "python",
   "name": "python3"
  },
  "language_info": {
   "codemirror_mode": {
    "name": "ipython",
    "version": 3
   },
   "file_extension": ".py",
   "mimetype": "text/x-python",
   "name": "python",
   "nbconvert_exporter": "python",
   "pygments_lexer": "ipython3",
   "version": "3.9.2"
  }
 },
 "nbformat": 4,
 "nbformat_minor": 5
}
